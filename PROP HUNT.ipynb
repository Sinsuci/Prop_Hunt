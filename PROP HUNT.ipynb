{
 "cells": [
  {
   "cell_type": "code",
   "execution_count": null,
   "metadata": {},
   "outputs": [],
   "source": [
    "from pymem import Pymem\n",
    "\n",
    "pm = Pymem()\n",
    "pm.open_process_from_name(\"Run Prop Run.exe\")\n",
    "\n",
    "base_adresse = hex(pm.base_address)\n",
    "\n",
    "print(\"Base adresse\",base_adresse)\n",
    "print(\"PID : \",pm.process_id)\n",
    "\n",
    "\n",
    "offset_clone = 0x1D96E9ECEF4\n",
    "\n",
    "\n",
    "print( pm.write_int(0x1D96E9ECEF4,12) )\n",
    "\n",
    "\n",
    "pm.close_process()"
   ]
  },
  {
   "cell_type": "code",
   "execution_count": null,
   "metadata": {},
   "outputs": [],
   "source": [
    "localPlayer = 0x000001CF5440FEA0\n",
    "shiftCD = 0xF8\n",
    "copycounter = 0x274\n",
    "\n"
   ]
  }
 ],
 "metadata": {
  "interpreter": {
   "hash": "05b9e537f2b59cbc3c12f6cb9786b379bafa4982103b2a2019705f706668400c"
  },
  "kernelspec": {
   "display_name": "Python 3.9.7 ('base')",
   "language": "python",
   "name": "python3"
  },
  "language_info": {
   "codemirror_mode": {
    "name": "ipython",
    "version": 3
   },
   "file_extension": ".py",
   "mimetype": "text/x-python",
   "name": "python",
   "nbconvert_exporter": "python",
   "pygments_lexer": "ipython3",
   "version": "3.9.7"
  },
  "orig_nbformat": 4
 },
 "nbformat": 4,
 "nbformat_minor": 2
}
